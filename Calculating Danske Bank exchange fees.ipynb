{
 "cells": [
  {
   "cell_type": "markdown",
   "id": "9eb89ad5",
   "metadata": {},
   "source": [
    "### Taking Danske Bank PDF statements and converting into DataFrame"
   ]
  },
  {
   "cell_type": "markdown",
   "id": "67153fad",
   "metadata": {},
   "source": [
    "Process\n",
    "- Merge PDF statements in Adobe and export as xls\n",
    "- Read xlsx from file\n",
    "- Wrangle data\n",
    "- Calculate Flat Fees\n",
    "- Calculate Exchange rate spread being charge (versus Oanda open price)"
   ]
  },
  {
   "cell_type": "code",
   "execution_count": null,
   "id": "57b7597e",
   "metadata": {},
   "outputs": [],
   "source": [
    "import pandas as pd\n",
    "from deep_translator import GoogleTranslator"
   ]
  },
  {
   "cell_type": "code",
   "execution_count": null,
   "id": "d18a980b",
   "metadata": {},
   "outputs": [],
   "source": [
    "df = pd.read_excel('master.xlsx')\n",
    "cols = [2,5]\n",
    "df.drop(df.columns[cols], axis =1, inplace = True)"
   ]
  },
  {
   "cell_type": "code",
   "execution_count": null,
   "id": "dac4f2b8",
   "metadata": {},
   "outputs": [],
   "source": [
    "df.columns"
   ]
  },
  {
   "cell_type": "code",
   "execution_count": null,
   "id": "db85e1f9",
   "metadata": {},
   "outputs": [],
   "source": [
    "#rename columns\n",
    "df.rename(columns = {'NAME AND ADDRESS from the statement': 'meta', 'Unnamed: 4' : 'money'}, inplace =True )"
   ]
  },
  {
   "cell_type": "code",
   "execution_count": null,
   "id": "d1f0f7bb",
   "metadata": {},
   "outputs": [],
   "source": [
    "#add values to cells we dont want to a delete\n",
    "df.loc[df['meta'].str.contains(\"Gebyr\"), 'Unnamed: 1'] = 0.03\n",
    "df.loc[df['meta'].str.contains(\"Der er den\"), 'money'] = 0.01\n",
    "df.loc[df['meta'].str.contains(\"Der er den\"), 'Unnamed: 1'] = 0.01\n",
    "df.loc[df['meta'].str.contains(\"Der er den\"), 'Unnamed: 3'] = 0.01\n",
    "df.loc[df['meta'].str.contains(\"Modtaget beløb\"), 'Unnamed: 1'] = 0.02\n"
   ]
  },
  {
   "cell_type": "code",
   "execution_count": null,
   "id": "0fc6d9ac",
   "metadata": {},
   "outputs": [],
   "source": [
    "df.dropna(inplace=True)"
   ]
  },
  {
   "cell_type": "code",
   "execution_count": null,
   "id": "e569d327",
   "metadata": {},
   "outputs": [],
   "source": [
    "df.reset_index(inplace=True)"
   ]
  },
  {
   "cell_type": "code",
   "execution_count": null,
   "id": "e6c33ea6",
   "metadata": {},
   "outputs": [],
   "source": [
    "df.drop(columns = ['index'], inplace = True)"
   ]
  },
  {
   "cell_type": "code",
   "execution_count": null,
   "id": "84b8c273",
   "metadata": {},
   "outputs": [],
   "source": [
    "df.replace({\"Gebyr\" : \"fee\"}, inplace = True)"
   ]
  },
  {
   "cell_type": "markdown",
   "id": "43325d44",
   "metadata": {},
   "source": [
    "### Calculating the flat fee total"
   ]
  },
  {
   "cell_type": "code",
   "execution_count": null,
   "id": "8c64adcb",
   "metadata": {},
   "outputs": [],
   "source": [
    "flat_fee = df[df['meta'] == \"fee\"]"
   ]
  },
  {
   "cell_type": "code",
   "execution_count": null,
   "id": "f48929f6",
   "metadata": {},
   "outputs": [],
   "source": [
    "flat_fee['money'] = flat_fee['money'].str.replace(',', '.').astype(float)\n"
   ]
  },
  {
   "cell_type": "code",
   "execution_count": null,
   "id": "b149c21a",
   "metadata": {},
   "outputs": [],
   "source": [
    "total_fee = flat_fee['money'].sum() / 6.65\n",
    "f'The amount you are paying in one year in flat fees is {total_fee}'"
   ]
  },
  {
   "cell_type": "markdown",
   "id": "0c42de04",
   "metadata": {},
   "source": [
    "### Further wrangling to get to spread data"
   ]
  },
  {
   "cell_type": "code",
   "execution_count": null,
   "id": "45532bb4",
   "metadata": {},
   "outputs": [],
   "source": [
    "df.rename(columns = {'Unnamed: 1': 'Ex_Rate', 'Unnamed: 3' : 'currency'}, inplace =True )"
   ]
  },
  {
   "cell_type": "code",
   "execution_count": null,
   "id": "9bd31654",
   "metadata": {},
   "outputs": [],
   "source": [
    "#remove commas from the bank statement and replace with decimals\n",
    "df['money'] = df['money'].str.replace('.', '')\n",
    "df['money'] = df['money'].str.replace(',','.').astype(float)"
   ]
  },
  {
   "cell_type": "code",
   "execution_count": null,
   "id": "78edd0e5",
   "metadata": {},
   "outputs": [],
   "source": [
    "#removes the rows where the meta column contains the word fee (which removes an obsolete row)\n",
    "df = df[~df['meta'].str.contains('fee')]"
   ]
  },
  {
   "cell_type": "code",
   "execution_count": null,
   "id": "2c1ec144",
   "metadata": {},
   "outputs": [],
   "source": [
    "#translates english months to danish\n",
    "months = GoogleTranslator(source='auto', target='da').translate(\"January February March April May June July August September October November December\")"
   ]
  },
  {
   "cell_type": "code",
   "execution_count": null,
   "id": "16f9319e",
   "metadata": {},
   "outputs": [],
   "source": [
    "#makes all letters lower case\n",
    "months = months.lower()"
   ]
  },
  {
   "cell_type": "code",
   "execution_count": null,
   "id": "23be489e",
   "metadata": {},
   "outputs": [],
   "source": [
    "#convert months string to a list from a string\n",
    "months = months.split()"
   ]
  },
  {
   "cell_type": "code",
   "execution_count": null,
   "id": "18267b70",
   "metadata": {},
   "outputs": [],
   "source": [
    "type(months)"
   ]
  },
  {
   "cell_type": "code",
   "execution_count": null,
   "id": "f4b6f9b7",
   "metadata": {},
   "outputs": [],
   "source": [
    "months"
   ]
  },
  {
   "cell_type": "code",
   "execution_count": null,
   "id": "5a14e898",
   "metadata": {},
   "outputs": [],
   "source": [
    "En_months = ['January', 'February', 'March', 'April', 'May', 'June', 'July', 'August', 'September', 'October', 'November', 'December']"
   ]
  },
  {
   "cell_type": "code",
   "execution_count": null,
   "id": "8083dc9f",
   "metadata": {},
   "outputs": [],
   "source": [
    "#merge months into a dictionary if needed later \n",
    "months_dict = dict(zip(months, En_months))"
   ]
  },
  {
   "cell_type": "code",
   "execution_count": null,
   "id": "9a88afbd",
   "metadata": {},
   "outputs": [],
   "source": [
    "#create a new column called months and extract the month from the meta column text and instert into it\n",
    "df['month'] = df.meta.str.extract('({})'.format('|'.join(months)), expand=False).str.lower().fillna('')\n",
    "#using extract() followed by the {} and .format enables the months list to be used dynamically, i.e it save us\n",
    "#typing each month into the line of code, and it separates them using the OR | line."
   ]
  },
  {
   "cell_type": "code",
   "execution_count": null,
   "id": "823ae1ec",
   "metadata": {},
   "outputs": [],
   "source": [
    "#create a new column called year and extract the year from the meta column text and instert into it\n",
    "year = ['2022', '2023']\n",
    "df['year'] = df.meta.str.extract('({})'.format('|'.join(year)), expand=False).str.lower().fillna('')"
   ]
  },
  {
   "cell_type": "code",
   "execution_count": null,
   "id": "088c7c40",
   "metadata": {},
   "outputs": [],
   "source": [
    "#bump the Ex_Rate rows down by 1 to get the exchange rate offered by the bank in line with the rest of the row\n",
    "df.loc[len(df.index), :] = None #this adds a row to the bottom of the data frame and may note be needed.\n",
    "df['Ex_Rate'] = df.Ex_Rate.shift(1) #this moves everything down one row, adding NAN in the new cell at the top."
   ]
  },
  {
   "cell_type": "markdown",
   "id": "b6aa07ea",
   "metadata": {},
   "source": [
    "#### Pull USD and DKK money in into their own data tables to merge back into df cols later"
   ]
  },
  {
   "cell_type": "code",
   "execution_count": null,
   "id": "0eb64009",
   "metadata": {},
   "outputs": [],
   "source": [
    "cash_in = df['money']"
   ]
  },
  {
   "cell_type": "code",
   "execution_count": null,
   "id": "3161523b",
   "metadata": {},
   "outputs": [],
   "source": [
    "cash_in.dropna(inplace=True)"
   ]
  },
  {
   "cell_type": "code",
   "execution_count": null,
   "id": "61a31db0",
   "metadata": {},
   "outputs": [],
   "source": [
    "USD = cash_in[::2] #every other number starting with the first number to isolate USD data\n",
    "shape = USD.shape\n",
    "datatype = type(USD)\n",
    "print(f' the shape is {shape} and the data type is {datatype}')"
   ]
  },
  {
   "cell_type": "code",
   "execution_count": null,
   "id": "be2a256f",
   "metadata": {},
   "outputs": [],
   "source": [
    "USD = USD.to_frame() #put it in a dataframe\n",
    "type(USD)"
   ]
  },
  {
   "cell_type": "code",
   "execution_count": null,
   "id": "5b3702bf",
   "metadata": {},
   "outputs": [],
   "source": [
    "USD.reset_index(drop=True, inplace = True) #drop removes the old index from the cols"
   ]
  },
  {
   "cell_type": "code",
   "execution_count": null,
   "id": "00d796cc",
   "metadata": {},
   "outputs": [],
   "source": [
    "#Do the same but with DKK\n",
    "DKK = cash_in[1::] #skips first row\n",
    "DKK = DKK[::2] #takes every other number including the first number which is now DKK since USD is skipped in line above\n",
    "DKK.shape"
   ]
  },
  {
   "cell_type": "code",
   "execution_count": null,
   "id": "aaf1638c",
   "metadata": {},
   "outputs": [],
   "source": [
    "DKK.to_frame()\n",
    "DKK.reset_index(drop=True, inplace = True)"
   ]
  },
  {
   "cell_type": "markdown",
   "id": "e16d669b",
   "metadata": {},
   "source": [
    "#### Perpare original df to merge with new USD and DKK columns"
   ]
  },
  {
   "cell_type": "code",
   "execution_count": null,
   "id": "0f26d9d3",
   "metadata": {},
   "outputs": [],
   "source": [
    "df_filter_1 = df[2::]\n",
    "df_filter_2 = df_filter_1[::3]\n",
    "df_filter_2.shape #check shape of df matches DKK and USD"
   ]
  },
  {
   "cell_type": "code",
   "execution_count": null,
   "id": "aa411247",
   "metadata": {},
   "outputs": [],
   "source": [
    "df_filter_2.drop(columns = ['currency', 'money'], inplace=True)"
   ]
  },
  {
   "cell_type": "code",
   "execution_count": null,
   "id": "bb3bc47d",
   "metadata": {},
   "outputs": [],
   "source": [
    "df_filter_2.reset_index(drop=True, inplace = True)"
   ]
  },
  {
   "cell_type": "code",
   "execution_count": null,
   "id": "a6469736",
   "metadata": {},
   "outputs": [],
   "source": [
    "#add USD col to the new edited df\n",
    "df_filter_3 = pd.concat([df_filter_2, USD], axis = 1)"
   ]
  },
  {
   "cell_type": "code",
   "execution_count": null,
   "id": "c7409a87",
   "metadata": {},
   "outputs": [],
   "source": [
    "#update col name\n",
    "df_filter_3.rename(columns = {'money':'USD'}, inplace = True)"
   ]
  },
  {
   "cell_type": "code",
   "execution_count": null,
   "id": "616d3a9f",
   "metadata": {},
   "outputs": [],
   "source": [
    "#add DKK to the df \n",
    "df_filter_4 = pd.concat([df_filter_3, DKK], axis = 1)"
   ]
  },
  {
   "cell_type": "code",
   "execution_count": null,
   "id": "5e9b07ef",
   "metadata": {},
   "outputs": [],
   "source": [
    "df_filter_4.rename(columns = {'money':'DKK'}, inplace = True)"
   ]
  },
  {
   "cell_type": "code",
   "execution_count": null,
   "id": "9677e164",
   "metadata": {},
   "outputs": [],
   "source": [
    "df = df_filter_4"
   ]
  },
  {
   "cell_type": "code",
   "execution_count": null,
   "id": "935c7cc1",
   "metadata": {},
   "outputs": [],
   "source": [
    "#double check the statement matth works out - double check col should show zero\n",
    "df['double_check'] = DKK - df.USD * (df.Ex_Rate/100) \n",
    "df['double_check'].round(decimals = 0)"
   ]
  },
  {
   "cell_type": "code",
   "execution_count": null,
   "id": "2d4858c1",
   "metadata": {},
   "outputs": [],
   "source": [
    "#Oanda exchange rates from Trading View for each row beginning at index 0. This is DKK for 1 USD. \n",
    "#Free forex data can be pulled in dynamically but since i only had a few did it manually.\n",
    "U_ex = [6.82519, 6.88532, 6.95565, 6.89235, 6.75840, 6.75145, 6.74435, 6.86866, 7.05846, 6.84380, 6.84235, 6.85434, 7.06845, 7.05008, 7.01252, 7.1453, 7.20540,7.46628, 7.63778, 7.43880, 7.48095] "
   ]
  },
  {
   "cell_type": "code",
   "execution_count": null,
   "id": "6836da48",
   "metadata": {},
   "outputs": [],
   "source": [
    "U_ex_df = pd.DataFrame(U_ex, columns = [\"Oanda Open\"])"
   ]
  },
  {
   "cell_type": "code",
   "execution_count": null,
   "id": "cb3455f1",
   "metadata": {},
   "outputs": [],
   "source": [
    "U_ex_df.shape"
   ]
  },
  {
   "cell_type": "code",
   "execution_count": null,
   "id": "95a5ae1e",
   "metadata": {},
   "outputs": [],
   "source": [
    "df = pd.concat([df, U_ex_df], axis = 1)"
   ]
  },
  {
   "cell_type": "code",
   "execution_count": null,
   "id": "23383387",
   "metadata": {},
   "outputs": [],
   "source": [
    "#add how much dkk you would be paid based on the interbank rate to a new col\n",
    "df[\"interbank\"] = df.USD * df['Oanda Open']"
   ]
  },
  {
   "cell_type": "code",
   "execution_count": null,
   "id": "06e8eaea",
   "metadata": {},
   "outputs": [],
   "source": [
    "#calculate the spread being charged by statement(ie by row)\n",
    "df['Spread_DKK'] = df.interbank - df.DKK\n",
    "df['fee'] = (df.Spread_DKK / df.interbank) * 100\n",
    "df"
   ]
  },
  {
   "cell_type": "code",
   "execution_count": null,
   "id": "98127f8e",
   "metadata": {},
   "outputs": [],
   "source": [
    "#sum the spread fee column\n",
    "spread_fee = df['Spread_DKK'].sum()"
   ]
  },
  {
   "cell_type": "code",
   "execution_count": null,
   "id": "3a51a651",
   "metadata": {},
   "outputs": [],
   "source": [
    "total_sal = df.DKK.sum()"
   ]
  },
  {
   "cell_type": "markdown",
   "id": "ebed8538",
   "metadata": {},
   "source": [
    "#### Add data to Summary dataframe"
   ]
  },
  {
   "cell_type": "code",
   "execution_count": null,
   "id": "037ff66d",
   "metadata": {},
   "outputs": [],
   "source": [
    "summary = pd.DataFrame({\"flat_fees\": total_fee, \"spread_fees\": spread_fee, \"total_fees\" : total_fee+spread_fee}, index=[0])\n",
    "summary[\"percent_of_sal\"] = summary.total_fees / total_sal * 100\n",
    "summary"
   ]
  },
  {
   "cell_type": "code",
   "execution_count": null,
   "id": "372061e8",
   "metadata": {},
   "outputs": [],
   "source": [
    "# Unhash to get list of google translator supported languages\n",
    "# GoogleTranslator().get_supported_languages()\n"
   ]
  }
 ],
 "metadata": {
  "kernelspec": {
   "display_name": "Python 3",
   "language": "python",
   "name": "python3"
  },
  "language_info": {
   "codemirror_mode": {
    "name": "ipython",
    "version": 3
   },
   "file_extension": ".py",
   "mimetype": "text/x-python",
   "name": "python",
   "nbconvert_exporter": "python",
   "pygments_lexer": "ipython3",
   "version": "3.8.8"
  }
 },
 "nbformat": 4,
 "nbformat_minor": 5
}
